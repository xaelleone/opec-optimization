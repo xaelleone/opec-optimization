{
 "cells": [
  {
   "cell_type": "code",
   "execution_count": 13,
   "metadata": {
    "collapsed": true
   },
   "outputs": [],
   "source": [
    "import numpy as np\n",
    "import math\n",
    "from cvxopt import solvers, matrix\n",
    "from scipy.optimize import linprog\n",
    "\n",
    "r = 0.05\n",
    "backstop = 70\n",
    "periods = 8\n",
    "countries = 7\n",
    "# inverse demand\n",
    "odd_m = -0.4 # slope for odd numbered periods\n",
    "odd_b = 199.78 # intercept for odd numbered periods\n",
    "even_m = -0.37 # slope for even numbered periods\n",
    "even_b = 214.15 # intercept for even numbered periods\n",
    "\n",
    "# assume everyone maximally cheated in the first two rounds\n",
    "reserves = [1080 - 240, 414 - 92, 333 - 74, 297 - 66, 270 - 60, 396 - 88, 243 - 54]\n",
    "# everything divided by 100 to ease pressure on the optimizer\n",
    "cap = [120, 46, 37, 33, 30, 44, 27]\n",
    "mc = [9, 10, 16, 13, 5, 20, 7]\n",
    "\n",
    "# variable layout: 10 quantities for KSA, 10 quantities for IRN, ... 10 prices]\n",
    "variables = periods * (countries + 1)"
   ]
  },
  {
   "cell_type": "code",
   "execution_count": 14,
   "metadata": {
    "collapsed": false
   },
   "outputs": [],
   "source": [
    "# set up the optimization matrices\n",
    "# objective function: social welfare\n",
    "obj_P = np.zeros((variables, variables))\n",
    "obj_q = np.zeros(variables)\n",
    "# production capacity inequalities: upper bounds\n",
    "G = np.zeros((variables + periods * countries + periods + countries, variables))\n",
    "h = np.zeros(variables + periods * countries + periods + countries)\n",
    "# inverse demand equalities\n",
    "A = np.zeros((periods, variables))\n",
    "b = np.zeros(periods)"
   ]
  },
  {
   "cell_type": "code",
   "execution_count": 15,
   "metadata": {
    "collapsed": true
   },
   "outputs": [],
   "source": [
    "def price_index (p):\n",
    "    return periods * countries + p\n",
    "\n",
    "def quantity_index (c, p):\n",
    "    return periods * c + p"
   ]
  },
  {
   "cell_type": "code",
   "execution_count": 16,
   "metadata": {
    "collapsed": false
   },
   "outputs": [],
   "source": [
    "for p in range(periods):\n",
    "    if p % 2 == 0:\n",
    "        m = odd_m\n",
    "        intercept = odd_b\n",
    "    else:\n",
    "        m = even_m\n",
    "        intercept = even_b\n",
    "    for c in range(countries):\n",
    "        # extra term for (70 - MC_c) * (reserves_c - Q_c1 - Q_c2 - Q_c3...)\n",
    "        \n",
    "        # want to maximize (P_p - MC_c) * Q_cp * (1 + r)^(10 - p), made negative \n",
    "        discount_factor = math.pow(1 + r, periods - p)\n",
    "        obj_P[quantity_index(c, p)][price_index(p)] = obj_P[price_index(p)][quantity_index(c, p)] = -1# * discount_factor\n",
    "        obj_q[quantity_index(c, p)] = (discount_factor * mc[c] + 70 - mc[c]) / discount_factor\n",
    "        \n",
    "        G[variables + quantity_index(c, p)][quantity_index(c, p)] = 1\n",
    "        h[variables + quantity_index(c, p)] = cap[c]\n",
    "        \n",
    "        G[quantity_index(c, p)][quantity_index(c, p)] = -1\n",
    "        \n",
    "        G[variables + periods * countries + p][quantity_index(c, p)] = -1 * m\n",
    "        G[variables + periods * countries + periods + c][quantity_index(c, p)] = 1\n",
    "        h[variables + periods * countries + periods + c] = reserves[c]\n",
    "    G[price_index(p)][price_index(p)] = -1\n",
    "    G[variables + periods * countries + p][price_index(p)] = 1\n",
    "    h[variables + periods * countries + p] = intercept      \n",
    "        "
   ]
  },
  {
   "cell_type": "code",
   "execution_count": 17,
   "metadata": {
    "collapsed": false
   },
   "outputs": [
    {
     "name": "stdout",
     "output_type": "stream",
     "text": [
      "     pcost       dcost       gap    pres   dres\n",
      " 0: -4.1196e+05 -4.3028e+05  5e+06  2e+00  6e+00\n",
      " 1: -1.3119e+05 -5.8813e+05  1e+06  3e-01  9e-01\n",
      " 2: -1.1282e+05 -2.6280e+05  1e+05  1e-16  1e-15\n",
      " 3: -1.1504e+05 -1.2042e+05  5e+03  1e-16  2e-15\n",
      " 4: -1.1543e+05 -1.1695e+05  2e+03  1e-16  5e-14\n",
      " 5: -1.1571e+05 -1.1632e+05  6e+02  1e-16  7e-14\n",
      " 6: -1.1584e+05 -1.1607e+05  2e+02  1e-16  1e-13\n",
      " 7: -1.1588e+05 -1.1598e+05  1e+02  1e-16  2e-13\n",
      " 8: -1.1591e+05 -1.1593e+05  2e+01  1e-16  3e-13\n",
      " 9: -1.1592e+05 -1.1592e+05  4e+00  2e-16  4e-13\n",
      "10: -1.1592e+05 -1.1592e+05  5e-01  1e-16  6e-13\n",
      "11: -1.1592e+05 -1.1592e+05  5e-02  2e-16  4e-13\n",
      "Optimal solution found.\n",
      "[[1.19996289e+02]\n",
      " [1.19996350e+02]\n",
      " [1.19993507e+02]\n",
      " [1.19301956e+02]\n",
      " [7.24801980e+01]\n",
      " [1.02736165e+02]\n",
      " [6.60496553e+01]\n",
      " [1.19443811e+02]\n",
      " [9.46593866e+00]\n",
      " [4.12591678e+01]\n",
      " [4.26575557e+00]\n",
      " [3.60478825e+01]\n",
      " [4.59953793e+01]\n",
      " [4.59959256e+01]\n",
      " [4.59976800e+01]\n",
      " [4.59977707e+01]\n",
      " [1.96021720e-04]\n",
      " [2.32956790e-04]\n",
      " [2.43406255e-04]\n",
      " [2.94276586e-04]\n",
      " [3.54181133e-04]\n",
      " [5.02910356e-04]\n",
      " [8.05169811e-04]\n",
      " [2.42043341e-03]\n",
      " [3.65956158e-04]\n",
      " [5.20890293e-04]\n",
      " [4.68088470e-04]\n",
      " [6.13210285e-04]\n",
      " [7.18817898e-04]\n",
      " [1.11026785e-03]\n",
      " [2.29017705e-03]\n",
      " [3.29735251e+01]\n",
      " [2.99997003e+01]\n",
      " [2.99996289e+01]\n",
      " [2.99995862e+01]\n",
      " [2.99994050e+01]\n",
      " [2.99993158e+01]\n",
      " [2.99987997e+01]\n",
      " [2.99975199e+01]\n",
      " [5.12710300e-03]\n",
      " [1.07914736e-04]\n",
      " [1.71718429e-04]\n",
      " [1.45609665e-04]\n",
      " [1.95132649e-04]\n",
      " [2.18195729e-04]\n",
      " [2.75977339e-04]\n",
      " [4.45775919e-04]\n",
      " [1.02111367e-03]\n",
      " [2.69994700e+01]\n",
      " [2.69993682e+01]\n",
      " [2.69992669e+01]\n",
      " [2.69988724e+01]\n",
      " [2.69988358e+01]\n",
      " [2.69979825e+01]\n",
      " [2.69966922e+01]\n",
      " [8.03149119e-03]\n",
      " [1.25195171e+02]\n",
      " [1.33395485e+02]\n",
      " [1.27276409e+02]\n",
      " [1.35580787e+02]\n",
      " [1.29589990e+02]\n",
      " [1.38029617e+02]\n",
      " [1.32161963e+02]\n",
      " [1.40730267e+02]]\n"
     ]
    }
   ],
   "source": [
    "solvers.options['feastol']=1e-6\n",
    "solvers.options['abstol']=1e-6\n",
    "sol = solvers.qp(matrix(obj_P, tc='d'),matrix(obj_q, tc='d'),matrix(G, tc='d'),matrix(h, tc='d'))\n",
    "print np.array(sol['x'])"
   ]
  },
  {
   "cell_type": "code",
   "execution_count": 18,
   "metadata": {
    "collapsed": false
   },
   "outputs": [
    {
     "data": {
      "text/plain": [
       "array([186.46206818, 218.25544059, 181.25897303, 212.34921879,\n",
       "       175.4750201 , 205.73076176, 169.04508854, 198.43170694])"
      ]
     },
     "execution_count": 18,
     "metadata": {},
     "output_type": "execute_result"
    }
   ],
   "source": [
    "# quantities\n",
    "np.sum(np.array(sol['x'][:56]).reshape(7, -1), axis=0)"
   ]
  },
  {
   "cell_type": "code",
   "execution_count": 19,
   "metadata": {
    "collapsed": false
   },
   "outputs": [
    {
     "data": {
      "text/plain": [
       "array([[125.19517096],\n",
       "       [133.39548547],\n",
       "       [127.27640896],\n",
       "       [135.5807875 ],\n",
       "       [129.58999006],\n",
       "       [138.02961655],\n",
       "       [132.1619626 ],\n",
       "       [140.73026677]])"
      ]
     },
     "execution_count": 19,
     "metadata": {},
     "output_type": "execute_result"
    }
   ],
   "source": [
    "# prices\n",
    "np.array(sol['x'])[56:]"
   ]
  }
 ],
 "metadata": {
  "kernelspec": {
   "display_name": "Python 2",
   "language": "python",
   "name": "python2"
  },
  "language_info": {
   "codemirror_mode": {
    "name": "ipython",
    "version": 2
   },
   "file_extension": ".py",
   "mimetype": "text/x-python",
   "name": "python",
   "nbconvert_exporter": "python",
   "pygments_lexer": "ipython2",
   "version": "2.7.11"
  }
 },
 "nbformat": 4,
 "nbformat_minor": 0
}
